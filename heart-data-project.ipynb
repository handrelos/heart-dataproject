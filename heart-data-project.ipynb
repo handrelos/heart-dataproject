{
 "cells": [
  {
   "cell_type": "code",
   "execution_count": null,
   "id": "0b0acd34-5778-41d8-8b81-b2eb940763d6",
   "metadata": {},
   "outputs": [],
   "source": [
    "#pip install pip install jupyterlab==3\n",
    "#pip install jupyterlab-git==0.30 \n",
    "#for git to work*"
   ]
  }
 ],
 "metadata": {
  "kernelspec": {
   "display_name": "Python 3 (ipykernel)",
   "language": "python",
   "name": "python3"
  },
  "language_info": {
   "codemirror_mode": {
    "name": "ipython",
    "version": 3
   },
   "file_extension": ".py",
   "mimetype": "text/x-python",
   "name": "python",
   "nbconvert_exporter": "python",
   "pygments_lexer": "ipython3",
   "version": "3.11.9"
  }
 },
 "nbformat": 4,
 "nbformat_minor": 5
}
